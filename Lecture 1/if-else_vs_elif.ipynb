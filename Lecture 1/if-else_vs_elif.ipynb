{
 "cells": [
  {
   "cell_type": "code",
   "execution_count": null,
   "metadata": {},
   "outputs": [],
   "source": [
    "num = 15\n",
    "\n",
    "if num > 10:\n",
    "    print(\"Greater than 10\")\n",
    "\n",
    "if num > 5:\n",
    "    print(\"Greater than 5\")\n",
    "\n",
    "if num > 0:\n",
    "    print(\"Positive number\")\n"
   ]
  },
  {
   "cell_type": "code",
   "execution_count": null,
   "metadata": {},
   "outputs": [],
   "source": [
    "num = 15\n",
    "\n",
    "if num > 10:\n",
    "    print(\"Greater than 10\")\n",
    "\n",
    "elif num > 5:\n",
    "    print(\"Greater than 5\")\n",
    "\n",
    "elif num > 0:\n",
    "    print(\"Positive number\")\n"
   ]
  }
 ],
 "metadata": {
  "kernelspec": {
   "display_name": "my_python",
   "language": "python",
   "name": "python3"
  },
  "language_info": {
   "name": "python",
   "version": "3.11.12"
  }
 },
 "nbformat": 4,
 "nbformat_minor": 2
}
