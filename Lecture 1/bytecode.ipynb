{
 "cells": [
  {
   "cell_type": "code",
   "execution_count": null,
   "metadata": {},
   "outputs": [],
   "source": [
    "import dis\n",
    "dis.dis(5 + 3)"
   ]
  },
  {
   "cell_type": "code",
   "execution_count": 22,
   "metadata": {},
   "outputs": [
    {
     "name": "stdout",
     "output_type": "stream",
     "text": [
      "  0           0 RESUME                   0\n",
      "\n",
      "  1           2 LOAD_CONST               0 (5)\n",
      "              4 STORE_NAME               0 (a)\n",
      "\n",
      "  2           6 LOAD_CONST               1 (3)\n",
      "              8 STORE_NAME               1 (b)\n",
      "\n",
      "  3          10 LOAD_NAME                0 (a)\n",
      "             12 LOAD_NAME                1 (b)\n",
      "             14 BINARY_OP                0 (+)\n",
      "             18 STORE_NAME               2 (x)\n",
      "             20 LOAD_CONST               2 (None)\n",
      "             22 RETURN_VALUE\n"
     ]
    }
   ],
   "source": [
    "code = compile(\"a = 5\\nb = 3\\nx = a + b\", \"<string>\", \"exec\")\n",
    "dis.dis(code)\n"
   ]
  },
  {
   "cell_type": "code",
   "execution_count": 23,
   "metadata": {},
   "outputs": [
    {
     "name": "stdout",
     "output_type": "stream",
     "text": [
      "  0           0 RESUME                   0\n",
      "\n",
      "  1           2 LOAD_CONST               0 (5)\n",
      "              4 STORE_NAME               0 (a)\n",
      "              6 LOAD_CONST               1 (3)\n",
      "              8 STORE_NAME               1 (b)\n",
      "             10 LOAD_NAME                0 (a)\n",
      "             12 LOAD_NAME                1 (b)\n",
      "             14 BINARY_OP                0 (+)\n",
      "             18 STORE_NAME               2 (x)\n",
      "             20 LOAD_CONST               2 (None)\n",
      "             22 RETURN_VALUE\n"
     ]
    }
   ],
   "source": [
    "code = compile(\"a = 5; b = 3; x = a + b\", \"<string>\", \"exec\")\n",
    "dis.dis(code)"
   ]
  },
  {
   "cell_type": "markdown",
   "metadata": {},
   "source": [
    "0           0 RESUME                   0\n",
    "\n",
    "Start running the program. This is an internal instruction used by Python. You can say:\n",
    "🗣️ \"Python is getting ready to start.\"\n",
    "\n",
    "1           2 LOAD_CONST               0 (5)\n",
    "            4 STORE_NAME               0 (a)\n",
    "\n",
    "Load the number 5 and store it in a.\n",
    "🗣️ \"Python puts 5 into a memory box named a.\"\n",
    "\n",
    "\n",
    "              6 LOAD_CONST               1 (3)\n",
    "              8 STORE_NAME               1 (b)\n",
    "\n",
    "Load the number 3 and store it in b.\n",
    "🗣️ \"Now it puts 3 into a memory box named b.\"\n",
    "\n",
    "\n",
    "\n",
    "             10 LOAD_NAME                0 (a)\n",
    "             12 LOAD_NAME                1 (b)\n",
    "\n",
    "Look at what’s inside a and b.\n",
    "🗣️ \"Python goes to the memory and grabs the values of a and b.\"\n",
    "\n",
    "\n",
    "             14 BINARY_OP                0 (+)\n",
    "\n",
    "Add them together (a + b).\n",
    "🗣️ \"Python adds the two numbers: 5 + 3.\"\n",
    "\n",
    "\n",
    "             18 STORE_NAME               2 (x)\n",
    "\n",
    "Save the result (8) into x.\n",
    "🗣️ \"The answer, 8, is now stored in a memory box named x.\"\n",
    "\n",
    "\n",
    "\n",
    "             20 LOAD_CONST               2 (None)\n",
    "             22 RETURN_VALUE\n",
    "\n",
    "Finish the program.\n",
    "🗣️ \"Python ends here. It doesn’t return anything, so it returns None.\"\n",
    "\n",
    "summary\n",
    "Python reads and runs your code step by step. Behind the scenes, it uses instructions like “put 5 in a”, “get b”, and “add a and b”. This is what the computer really does before you see the result."
   ]
  }
 ],
 "metadata": {
  "kernelspec": {
   "display_name": "my_python",
   "language": "python",
   "name": "python3"
  },
  "language_info": {
   "codemirror_mode": {
    "name": "ipython",
    "version": 3
   },
   "file_extension": ".py",
   "mimetype": "text/x-python",
   "name": "python",
   "nbconvert_exporter": "python",
   "pygments_lexer": "ipython3",
   "version": "3.11.12"
  }
 },
 "nbformat": 4,
 "nbformat_minor": 2
}
