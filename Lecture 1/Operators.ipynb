{
 "cells": [
  {
   "cell_type": "markdown",
   "metadata": {},
   "source": [
    "## Arithmetic Operators"
   ]
  },
  {
   "cell_type": "code",
   "execution_count": null,
   "metadata": {},
   "outputs": [],
   "source": [
    "x = 4\n",
    "print(x+ 5)"
   ]
  },
  {
   "cell_type": "code",
   "execution_count": 4,
   "metadata": {},
   "outputs": [
    {
     "name": "stdout",
     "output_type": "stream",
     "text": [
      "Modulus: 1\n"
     ]
    }
   ],
   "source": [
    "\n",
    "a = 9\n",
    "b = 2\n",
    "\n",
    "# print(\"Addition:\", a + b)\n",
    "# print(\"Subtraction:\", a - b)\n",
    "# print(\"Multiplication:\", a * b)\n",
    "# print(\"Division:\", a / b) # float \n",
    "# print(\"Floor Division:\", a // b) # intger \n",
    "print(\"Modulus:\", a % b)\n",
    "# print(\"Exponent:\", a ** b)\n"
   ]
  },
  {
   "cell_type": "markdown",
   "metadata": {},
   "source": [
    "## Assignment Operators"
   ]
  },
  {
   "cell_type": "code",
   "execution_count": null,
   "metadata": {},
   "outputs": [
    {
     "name": "stdout",
     "output_type": "stream",
     "text": [
      "x after += 3: 8\n",
      "x after -= 2: 6\n",
      "x after *= 4: 24\n",
      "x after /= 3: 8.0\n",
      "x after %= 2: 0.0\n"
     ]
    }
   ],
   "source": [
    "\n",
    "x = 5\n",
    "x += 3    # same as x = x + 3\n",
    "print(\"x after += 3:\", x)\n",
    "\n",
    "x = 5\n",
    "x *=2\n",
    "\n",
    "5 + 2 \n",
    "\n",
    "x -= 2\n",
    "print(\"x after -= 2:\", x) # x x - 2\n",
    "\n",
    "x *= 4\n",
    "print(\"x after *= 4:\", x) # x = x * 4\n",
    "\n",
    "\n",
    "x /= 3\n",
    "print(\"x after /= 3:\", x) # # x = x / 3\n",
    "\n",
    "# now x = 8.0\n",
    "x %= 2\n",
    "print(\"x after %= 2:\", x)\n"
   ]
  },
  {
   "cell_type": "markdown",
   "metadata": {},
   "source": [
    "## Conditional/Relational/Comparison Operators"
   ]
  },
  {
   "cell_type": "code",
   "execution_count": null,
   "metadata": {},
   "outputs": [
    {
     "name": "stdout",
     "output_type": "stream",
     "text": [
      "a == b: False\n",
      "a != b: True\n",
      "a > b: True\n",
      "a < b: False\n",
      "a >= b: True\n",
      "a <= b: False\n"
     ]
    }
   ],
   "source": [
    "\n",
    "a = 10\n",
    "b = 5\n",
    "print(\"a == b:\", a == b)\n",
    "print(\"a != b:\", a != b)\n",
    "print(\"a > b:\", a > b)\n",
    "print(\"a < b:\", a < b)\n",
    "print(\"a >= b:\", a >= b)\n",
    "print(\"a <= b:\", a <= b)\n"
   ]
  },
  {
   "cell_type": "markdown",
   "metadata": {},
   "source": [
    "## Logical Operators"
   ]
  },
  {
   "cell_type": "code",
   "execution_count": 9,
   "metadata": {},
   "outputs": [
    {
     "name": "stdout",
     "output_type": "stream",
     "text": [
      "x > 5 and x < 15: True\n"
     ]
    }
   ],
   "source": [
    "\n",
    "x = 10\n",
    "print(\"x > 5 and x < 15:\", x >= 10 and x == 10)\n",
    "# print(\"x > 15 or x < 5:\", x > 15 or x == 10)\n",
    "# print(\"not(x > 5):\", not(x > 5))\n"
   ]
  },
  {
   "cell_type": "markdown",
   "metadata": {},
   "source": [
    "## Bitwise Operators"
   ]
  },
  {
   "cell_type": "code",
   "execution_count": null,
   "metadata": {},
   "outputs": [],
   "source": [
    "1 0 1 0 --> 10\n",
    "0 1 0 1 --> 5\n",
    "1 1 1 1"
   ]
  },
  {
   "cell_type": "code",
   "execution_count": 11,
   "metadata": {},
   "outputs": [
    {
     "name": "stdout",
     "output_type": "stream",
     "text": [
      "Bitwise AND: 0\n"
     ]
    }
   ],
   "source": [
    "10 # binary: 1010\n",
    "5 # binary:  0101\n",
    "\n",
    "\n",
    "# Rule: 1 & 1 = 1, everything else = 0\n",
    "print(\"Bitwise AND:\", 10 & 5)"
   ]
  },
  {
   "cell_type": "code",
   "execution_count": 12,
   "metadata": {},
   "outputs": [
    {
     "name": "stdout",
     "output_type": "stream",
     "text": [
      "Bitwise XOR: 15\n"
     ]
    }
   ],
   "source": [
    "print(\"Bitwise XOR:\", 10 ^ 5)"
   ]
  },
  {
   "cell_type": "code",
   "execution_count": 13,
   "metadata": {},
   "outputs": [
    {
     "name": "stdout",
     "output_type": "stream",
     "text": [
      "Bitwise NOT: -6\n"
     ]
    }
   ],
   "source": [
    "print(\"Bitwise NOT:\", ~5)"
   ]
  },
  {
   "cell_type": "code",
   "execution_count": 14,
   "metadata": {},
   "outputs": [
    {
     "name": "stdout",
     "output_type": "stream",
     "text": [
      "Bitwise Right Shift: 1\n"
     ]
    }
   ],
   "source": [
    "print(\"Bitwise Right Shift:\", 5 >> 2)"
   ]
  },
  {
   "cell_type": "code",
   "execution_count": null,
   "metadata": {},
   "outputs": [],
   "source": [
    "0 1 0 1"
   ]
  },
  {
   "cell_type": "code",
   "execution_count": null,
   "metadata": {},
   "outputs": [
    {
     "name": "stdout",
     "output_type": "stream",
     "text": [
      "Bitwise AND: 0\n",
      "Bitwise OR: 15\n",
      "Bitwise XOR: 15\n",
      "Bitwise NOT: -6\n",
      "Bitwise Right Shift: 1\n",
      "Bitwise Left Shift: 20\n"
     ]
    }
   ],
   "source": [
    "\n",
    "10 # binary: 1010\n",
    "5 # binary:  0101\n",
    "\n",
    "\n",
    "# Rule: 1 & 1 = 1, everything else = 0\n",
    "print(\"Bitwise AND:\", 10 & 5)\n",
    "\n",
    "# Rule: 1 | 0 = 1, 0 | 1 = 1, 1 | 1 = 1, 0 | 0 = 0\n",
    "print(\"Bitwise OR:\", 10 | 5)\n",
    "\n",
    "# Rule: 1 ^ 1 = 0, 0 ^ 0 = 0, but 1 ^ 0 = 1 and 0 ^ 1 = 1\n",
    "print(\"Bitwise XOR:\", 10 ^ 5)\n",
    "\n",
    "# Rule: Inverts the bits\n",
    "# ~x  =  -(x + 1)\n",
    "print(\"Bitwise NOT:\", ~5)\n",
    "\n",
    "\n",
    "# Rule: Shifts bits to the left or right\n",
    "# What it does:\n",
    "# Shifts bits to the right\n",
    "# Removes bits from the right end\n",
    "# Adds zeros to the left\n",
    "# Divides the number by 2 for each shift (floor division)\n",
    "print(\"Bitwise Right Shift:\", 5 >> 2)\n",
    "\n",
    "\n",
    "\n",
    "# What it does:\n",
    "# Shifts bits to the left\n",
    "# Adds zeros on the right\n",
    "# Multiplies the number by 2 for each shift\n",
    "\n",
    "print(\"Bitwise Left Shift:\", 5 << 2)\n"
   ]
  },
  {
   "cell_type": "code",
   "execution_count": null,
   "metadata": {},
   "outputs": [],
   "source": [
    "print(\"Bitwise Right Shift:\", 15 >> 3)\n",
    "\n",
    "1 1 1 1\n",
    "0 0 0 1"
   ]
  },
  {
   "cell_type": "code",
   "execution_count": null,
   "metadata": {},
   "outputs": [],
   "source": [
    "5>>3\n",
    "# Original: 0000 0101  (5)\n",
    "# Shift 1:  0000 0010  (2)\n",
    "# Shift 2:  0000 0001  (1)\n",
    "# Shift 3:  0000 0000  (0)\n",
    "\n",
    "5<<3\n",
    "# Original: 0000 0101  (5)\n",
    "# Shift 1:  0000 1010  (10)\n",
    "# Shift 2:  0001 0100  (20)\n",
    "# Shift 3:  0010 1000  (40)\n",
    "\n"
   ]
  },
  {
   "cell_type": "code",
   "execution_count": null,
   "metadata": {},
   "outputs": [],
   "source": [
    "5 << 2 \n",
    "0 1 0 1\n",
    "1 0 1 0\n",
    "0 1 0 0 \n",
    "0 1 0 0\n",
    "\n",
    "\n",
    "20 = 1 0 1 0 0\n",
    "\n",
    "0 0 0 0 0 1 0 1\n",
    "0 0 0 0 1 0 1 0\n",
    "0 0 0 1 0 1 0 0"
   ]
  },
  {
   "cell_type": "code",
   "execution_count": null,
   "metadata": {},
   "outputs": [],
   "source": [
    "10>>3\n",
    "# 1. 10 = 0000 1010\n",
    "# 2. Shift left by 3: 0001 0100 00\n",
    "# We remove 3 bits from the right, and add 0s on the left:\n",
    "# Before: 0000 1010\n",
    "# Shifted: 0000 0001\n"
   ]
  },
  {
   "cell_type": "code",
   "execution_count": null,
   "metadata": {},
   "outputs": [],
   "source": [
    "10 | 12# 10 is 1010 in binary\n",
    "# 12 is 1100 in binary"
   ]
  },
  {
   "cell_type": "code",
   "execution_count": null,
   "metadata": {},
   "outputs": [],
   "source": [
    "a = 6 # 0110\n",
    "b = 3 # 0011\n",
    "# What is the result of a & b?\n",
    "\n",
    "\n",
    "x = 12 # 1100 in binary\n",
    "y = 5  # 0101 in binary\n",
    "# What is the result of x | y?\n",
    "\n",
    "\n",
    "num = 7 # 7 is 0111 in binary\n",
    "# What is the result of ~num?\n",
    "\n",
    "\n",
    "a = 10 # 1010 in binary\n",
    "# What is the result of a << 1?\n",
    "\n",
    "\n",
    "b = 20 # 10100 in binary\n",
    "# What is the result of b >> 2?\n"
   ]
  },
  {
   "cell_type": "code",
   "execution_count": null,
   "metadata": {},
   "outputs": [
    {
     "data": {
      "text/plain": [
       "20"
      ]
     },
     "execution_count": 15,
     "metadata": {},
     "output_type": "execute_result"
    }
   ],
   "source": [
    "5 << 2 \n",
    "\n",
    "# 5 is 0101 in binary\n",
    "# Shift left by 2 positions:\n",
    "\n",
    "\n",
    "\n",
    "# 0001 0100 (20 in decimal)\n",
    "# 5 is 0101 in binary\n",
    "# Shift left by 2 positions:\n",
    "# 0001 0100 (20 in decimal)"
   ]
  },
  {
   "cell_type": "code",
   "execution_count": 26,
   "metadata": {},
   "outputs": [
    {
     "data": {
      "text/plain": [
       "20"
      ]
     },
     "execution_count": 26,
     "metadata": {},
     "output_type": "execute_result"
    }
   ],
   "source": [
    "b = 20\n",
    "# 10100 in binary\n",
    "5 << 2  # same as b = b >> 2\n",
    "# print(b)"
   ]
  },
  {
   "cell_type": "code",
   "execution_count": null,
   "metadata": {},
   "outputs": [],
   "source": [
    "# Identity Operators\n",
    "a = [1, 2, 3]\n",
    "b = a          # b points to the **same object** (address A123)\n",
    "c = [1, 2, 3]\n",
    "\n",
    "print(\"a is b:\", a is b)\n",
    "print(\"a is c:\", a is c)\n",
    "print(\"a == c:\", a == c)  # compares content\n",
    "\n",
    "\n",
    "\n",
    "# is checks identity (memory)\n",
    "# == checks equality (value).\""
   ]
  },
  {
   "cell_type": "code",
   "execution_count": null,
   "metadata": {},
   "outputs": [],
   "source": [
    "# Q1: Check if 7 is divisible by 3 using modulus\n",
    "# Your code here:\n",
    "# answer is\n",
    "\n",
    "\n",
    "\n",
    "# Q2: Use an arithmetic operator to calculate the square of 4\n",
    "# Your code here:\n",
    "# answer is\n",
    "\n",
    "# Q3: Use an assignment operator to double the value of x (initially 10)\n",
    "# Your code here:\n",
    "# answer is\n",
    "\n",
    "\n",
    "\n",
    "# Q4: Use a comparison operator to check if 20 is greater than or equal to 15\n",
    "# Your code here:\n",
    "# answer is\n",
    "\n",
    "\n",
    "# Q5: Check if 'a' is in the string 'apple'\n",
    "# Your code here:\n",
    "# answer is"
   ]
  },
  {
   "cell_type": "code",
   "execution_count": null,
   "metadata": {},
   "outputs": [],
   "source": [
    "a = 7\n",
    "print(\"7 is divisible by 3:\", a % 3 == 0)\n",
    "\n",
    "square_of_4 = 4 ** 2\n",
    "print(\"Square of 4:\", square_of_4)\n",
    "\n",
    "x = 10\n",
    "x *= 2\n",
    "print(\"Doubled value of x:\", x)\n",
    "\n",
    "is_greater_or_equal = 20\n",
    "print(\"20 is greater than or equal to 15:\", is_greater_or_equal >= 15)\n",
    "\n",
    "is_in_string = 'apple'\n",
    "print(\"Is 'a' in 'apple':\", 'a' in is_in_string)\n"
   ]
  },
  {
   "cell_type": "code",
   "execution_count": 19,
   "metadata": {},
   "outputs": [
    {
     "data": {
      "text/plain": [
       "0"
      ]
     },
     "execution_count": 19,
     "metadata": {},
     "output_type": "execute_result"
    }
   ],
   "source": [
    "7 >> 3 "
   ]
  },
  {
   "cell_type": "code",
   "execution_count": null,
   "metadata": {},
   "outputs": [],
   "source": [
    "0 0 0 0 0 1 1 1 >> 2\n",
    "\n",
    "0 0 0 0 0 1 1 1\n",
    "0 0 0 0 0 0 1 1\n",
    "0 0 0 0 0 0 0 0\n",
    "\n",
    "\n",
    "\n",
    "# Original: 0000 0111 (7)\n",
    "# Shift 1:  0000 0011 (3)\n",
    "# Shift 2:  0000 0001 (1)\n",
    "# Shift 3:  0000 0000 (0)"
   ]
  }
 ],
 "metadata": {
  "kernelspec": {
   "display_name": "my_python",
   "language": "python",
   "name": "python3"
  },
  "language_info": {
   "codemirror_mode": {
    "name": "ipython",
    "version": 3
   },
   "file_extension": ".py",
   "mimetype": "text/x-python",
   "name": "python",
   "nbconvert_exporter": "python",
   "pygments_lexer": "ipython3",
   "version": "3.11.12"
  }
 },
 "nbformat": 4,
 "nbformat_minor": 2
}
